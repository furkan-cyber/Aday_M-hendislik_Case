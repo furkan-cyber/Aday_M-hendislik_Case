{
 "cells": [
  {
   "cell_type": "code",
   "execution_count": 1,
   "id": "d0ad8add",
   "metadata": {},
   "outputs": [],
   "source": [
    "import psycopg2\n",
    "import pandas as pd\n",
    "# Connection parameters, yours will be different\n",
    "param_dic = {\n",
    "    \"host\"      : \"localhost\",\n",
    "    \"database\"  : \"postgres\",\n",
    "    \"user\"      : \"postgres\",\n",
    "    \"password\"  : \"2000\"\n",
    "}\n",
    "def connect(params_dic):\n",
    "    \"\"\" Connect to the PostgreSQL database server \"\"\"\n",
    "    conn = None\n",
    "    try:\n",
    "        # connect to the PostgreSQL server\n",
    "        print('Connecting to the PostgreSQL database...')\n",
    "        conn = psycopg2.connect(**params_dic)\n",
    "    except (Exception, psycopg2.DatabaseError) as error:\n",
    "        print(error)\n",
    "        sys.exit(1) \n",
    "    print(\"Connection successful\")\n",
    "    return conn\n",
    " "
   ]
  },
  {
   "cell_type": "code",
   "execution_count": 2,
   "id": "8ece2d7f",
   "metadata": {},
   "outputs": [],
   "source": [
    "def postgresql_to_dataframe(conn, select_query, column_names):\n",
    "    \"\"\"\n",
    "    Tranform a SELECT query into a pandas dataframe\n",
    "    \"\"\"\n",
    "    cursor = conn.cursor()\n",
    "    try:\n",
    "        cursor.execute(select_query)\n",
    "    except (Exception, psycopg2.DatabaseError) as error:\n",
    "        print(\"Error: %s\" % error)\n",
    "        cursor.close()\n",
    "        return 1\n",
    "    \n",
    "    # Naturally we get a list of tupples\n",
    "    tupples = cursor.fetchall()\n",
    "    cursor.close()\n",
    "    \n",
    "    # We just need to turn it into a pandas dataframe\n",
    "    df = pd.DataFrame(tupples, columns=column_names)\n",
    "    return df"
   ]
  },
  {
   "cell_type": "code",
   "execution_count": 3,
   "id": "c15fb517",
   "metadata": {},
   "outputs": [
    {
     "name": "stdout",
     "output_type": "stream",
     "text": [
      "Connecting to the PostgreSQL database...\n",
      "Connection successful\n"
     ]
    },
    {
     "data": {
      "text/html": [
       "<div>\n",
       "<style scoped>\n",
       "    .dataframe tbody tr th:only-of-type {\n",
       "        vertical-align: middle;\n",
       "    }\n",
       "\n",
       "    .dataframe tbody tr th {\n",
       "        vertical-align: top;\n",
       "    }\n",
       "\n",
       "    .dataframe thead th {\n",
       "        text-align: right;\n",
       "    }\n",
       "</style>\n",
       "<table border=\"1\" class=\"dataframe\">\n",
       "  <thead>\n",
       "    <tr style=\"text-align: right;\">\n",
       "      <th></th>\n",
       "      <th>flight_id</th>\n",
       "      <th>timee</th>\n",
       "      <th>xyz0</th>\n",
       "      <th>xyz1</th>\n",
       "      <th>xyz2</th>\n",
       "      <th>typee</th>\n",
       "    </tr>\n",
       "  </thead>\n",
       "  <tbody>\n",
       "    <tr>\n",
       "      <th>0</th>\n",
       "      <td>68</td>\n",
       "      <td>1970-01-01 00:00:00.367386</td>\n",
       "      <td>-0.143561</td>\n",
       "      <td>0.156800</td>\n",
       "      <td>-0.083174</td>\n",
       "      <td>vehicle_angular_velocity_0</td>\n",
       "    </tr>\n",
       "    <tr>\n",
       "      <th>1</th>\n",
       "      <td>68</td>\n",
       "      <td>1970-01-01 00:00:00.367388</td>\n",
       "      <td>-0.146729</td>\n",
       "      <td>0.154581</td>\n",
       "      <td>-0.082681</td>\n",
       "      <td>vehicle_angular_velocity_0</td>\n",
       "    </tr>\n",
       "    <tr>\n",
       "      <th>2</th>\n",
       "      <td>68</td>\n",
       "      <td>1970-01-01 00:00:00.367408</td>\n",
       "      <td>-0.178442</td>\n",
       "      <td>0.136067</td>\n",
       "      <td>-0.090833</td>\n",
       "      <td>vehicle_angular_velocity_0</td>\n",
       "    </tr>\n",
       "    <tr>\n",
       "      <th>3</th>\n",
       "      <td>68</td>\n",
       "      <td>1970-01-01 00:00:00.367426</td>\n",
       "      <td>-0.149040</td>\n",
       "      <td>0.122860</td>\n",
       "      <td>-0.095668</td>\n",
       "      <td>vehicle_angular_velocity_0</td>\n",
       "    </tr>\n",
       "    <tr>\n",
       "      <th>4</th>\n",
       "      <td>68</td>\n",
       "      <td>1970-01-01 00:00:00.367448</td>\n",
       "      <td>-0.158996</td>\n",
       "      <td>0.100193</td>\n",
       "      <td>-0.101502</td>\n",
       "      <td>vehicle_angular_velocity_0</td>\n",
       "    </tr>\n",
       "  </tbody>\n",
       "</table>\n",
       "</div>"
      ],
      "text/plain": [
       "   flight_id                      timee      xyz0      xyz1      xyz2  \\\n",
       "0         68 1970-01-01 00:00:00.367386 -0.143561  0.156800 -0.083174   \n",
       "1         68 1970-01-01 00:00:00.367388 -0.146729  0.154581 -0.082681   \n",
       "2         68 1970-01-01 00:00:00.367408 -0.178442  0.136067 -0.090833   \n",
       "3         68 1970-01-01 00:00:00.367426 -0.149040  0.122860 -0.095668   \n",
       "4         68 1970-01-01 00:00:00.367448 -0.158996  0.100193 -0.101502   \n",
       "\n",
       "                        typee  \n",
       "0  vehicle_angular_velocity_0  \n",
       "1  vehicle_angular_velocity_0  \n",
       "2  vehicle_angular_velocity_0  \n",
       "3  vehicle_angular_velocity_0  \n",
       "4  vehicle_angular_velocity_0  "
      ]
     },
     "execution_count": 3,
     "metadata": {},
     "output_type": "execute_result"
    }
   ],
   "source": [
    "# Connect to the database\n",
    "conn = connect(param_dic)\n",
    "column_names = [\"flight_id\",\"timee\",\"xyz0\",\"xyz1\",\"xyz2\",\"typee\"]\n",
    "# Execute the \"SELECT *\" query\n",
    "ang_vel = postgresql_to_dataframe(conn, \"select * from ang_vel\", column_names)\n",
    "ang_vel.head()"
   ]
  },
  {
   "cell_type": "code",
   "execution_count": 4,
   "id": "fb973f3a",
   "metadata": {},
   "outputs": [
    {
     "name": "stdout",
     "output_type": "stream",
     "text": [
      "Connecting to the PostgreSQL database...\n",
      "Connection successful\n"
     ]
    },
    {
     "data": {
      "text/html": [
       "<div>\n",
       "<style scoped>\n",
       "    .dataframe tbody tr th:only-of-type {\n",
       "        vertical-align: middle;\n",
       "    }\n",
       "\n",
       "    .dataframe tbody tr th {\n",
       "        vertical-align: top;\n",
       "    }\n",
       "\n",
       "    .dataframe thead th {\n",
       "        text-align: right;\n",
       "    }\n",
       "</style>\n",
       "<table border=\"1\" class=\"dataframe\">\n",
       "  <thead>\n",
       "    <tr style=\"text-align: right;\">\n",
       "      <th></th>\n",
       "      <th>flight_id</th>\n",
       "      <th>timee</th>\n",
       "      <th>lat</th>\n",
       "      <th>lon</th>\n",
       "      <th>alt</th>\n",
       "    </tr>\n",
       "  </thead>\n",
       "  <tbody>\n",
       "    <tr>\n",
       "      <th>0</th>\n",
       "      <td>68</td>\n",
       "      <td>00:00:00.367295</td>\n",
       "      <td>40.137826</td>\n",
       "      <td>32.548747</td>\n",
       "      <td>0.093732</td>\n",
       "    </tr>\n",
       "    <tr>\n",
       "      <th>1</th>\n",
       "      <td>68</td>\n",
       "      <td>00:00:00.367455</td>\n",
       "      <td>40.137826</td>\n",
       "      <td>32.548747</td>\n",
       "      <td>0.093732</td>\n",
       "    </tr>\n",
       "    <tr>\n",
       "      <th>2</th>\n",
       "      <td>68</td>\n",
       "      <td>00:00:00.367850</td>\n",
       "      <td>40.137826</td>\n",
       "      <td>32.548746</td>\n",
       "      <td>0.093730</td>\n",
       "    </tr>\n",
       "    <tr>\n",
       "      <th>3</th>\n",
       "      <td>68</td>\n",
       "      <td>00:00:00.368248</td>\n",
       "      <td>40.137827</td>\n",
       "      <td>32.548745</td>\n",
       "      <td>0.093730</td>\n",
       "    </tr>\n",
       "    <tr>\n",
       "      <th>4</th>\n",
       "      <td>68</td>\n",
       "      <td>00:00:00.368850</td>\n",
       "      <td>40.137826</td>\n",
       "      <td>32.548745</td>\n",
       "      <td>0.093731</td>\n",
       "    </tr>\n",
       "  </tbody>\n",
       "</table>\n",
       "</div>"
      ],
      "text/plain": [
       "   flight_id            timee        lat        lon       alt\n",
       "0         68  00:00:00.367295  40.137826  32.548747  0.093732\n",
       "1         68  00:00:00.367455  40.137826  32.548747  0.093732\n",
       "2         68  00:00:00.367850  40.137826  32.548746  0.093730\n",
       "3         68  00:00:00.368248  40.137827  32.548745  0.093730\n",
       "4         68  00:00:00.368850  40.137826  32.548745  0.093731"
      ]
     },
     "execution_count": 4,
     "metadata": {},
     "output_type": "execute_result"
    }
   ],
   "source": [
    "# Connect to the database\n",
    "conn = connect(param_dic)\n",
    "column_names = [\"flight_id\",\"timee\",\"lat\",\"lon\",\"alt\"]\n",
    "# Execute the \"SELECT *\" query\n",
    "gps= postgresql_to_dataframe(conn, \"select * from gps\", column_names)\n",
    "gps.head()"
   ]
  },
  {
   "cell_type": "code",
   "execution_count": 5,
   "id": "9e15c31d",
   "metadata": {},
   "outputs": [
    {
     "name": "stdout",
     "output_type": "stream",
     "text": [
      "Connecting to the PostgreSQL database...\n",
      "Connection successful\n"
     ]
    },
    {
     "data": {
      "text/html": [
       "<div>\n",
       "<style scoped>\n",
       "    .dataframe tbody tr th:only-of-type {\n",
       "        vertical-align: middle;\n",
       "    }\n",
       "\n",
       "    .dataframe tbody tr th {\n",
       "        vertical-align: top;\n",
       "    }\n",
       "\n",
       "    .dataframe thead th {\n",
       "        text-align: right;\n",
       "    }\n",
       "</style>\n",
       "<table border=\"1\" class=\"dataframe\">\n",
       "  <thead>\n",
       "    <tr style=\"text-align: right;\">\n",
       "      <th></th>\n",
       "      <th>flight_id</th>\n",
       "      <th>model_id</th>\n",
       "      <th>mission_id</th>\n",
       "      <th>flight_date</th>\n",
       "      <th>landing_date</th>\n",
       "      <th>landing_success</th>\n",
       "      <th>flight_success</th>\n",
       "      <th>flight_county</th>\n",
       "      <th>flight_province</th>\n",
       "      <th>flight_region</th>\n",
       "      <th>real_flight_time</th>\n",
       "      <th>mission_success</th>\n",
       "    </tr>\n",
       "  </thead>\n",
       "  <tbody>\n",
       "    <tr>\n",
       "      <th>0</th>\n",
       "      <td>68</td>\n",
       "      <td>3</td>\n",
       "      <td>2</td>\n",
       "      <td>2022-09-08 11:01:00</td>\n",
       "      <td>2022-09-08 11:02:09.630734</td>\n",
       "      <td>t</td>\n",
       "      <td>t</td>\n",
       "      <td>Kahramankazan</td>\n",
       "      <td>Ankara</td>\n",
       "      <td>İç Anadolu Bölgesi</td>\n",
       "      <td>00:02:43</td>\n",
       "      <td>t</td>\n",
       "    </tr>\n",
       "    <tr>\n",
       "      <th>1</th>\n",
       "      <td>69</td>\n",
       "      <td>3</td>\n",
       "      <td>2</td>\n",
       "      <td>2022-09-08 13:42:00</td>\n",
       "      <td>2022-09-08 13:42:58.787339</td>\n",
       "      <td>t</td>\n",
       "      <td>t</td>\n",
       "      <td>Kahramankazan</td>\n",
       "      <td>Ankara</td>\n",
       "      <td>İç Anadolu Bölgesi</td>\n",
       "      <td>00:00:00</td>\n",
       "      <td>f</td>\n",
       "    </tr>\n",
       "  </tbody>\n",
       "</table>\n",
       "</div>"
      ],
      "text/plain": [
       "   flight_id  model_id  mission_id         flight_date  \\\n",
       "0         68         3           2 2022-09-08 11:01:00   \n",
       "1         69         3           2 2022-09-08 13:42:00   \n",
       "\n",
       "                landing_date landing_success flight_success  flight_county  \\\n",
       "0 2022-09-08 11:02:09.630734               t              t  Kahramankazan   \n",
       "1 2022-09-08 13:42:58.787339               t              t  Kahramankazan   \n",
       "\n",
       "  flight_province       flight_region real_flight_time mission_success  \n",
       "0          Ankara  İç Anadolu Bölgesi         00:02:43               t  \n",
       "1          Ankara  İç Anadolu Bölgesi         00:00:00               f  "
      ]
     },
     "execution_count": 5,
     "metadata": {},
     "output_type": "execute_result"
    }
   ],
   "source": [
    "# Connect to the database\n",
    "conn = connect(param_dic)\n",
    "column_names = [\"flight_id\",\"model_id\",\"mission_id\",\"flight_date\",\"landing_date\",\n",
    "               \"landing_success\",\"flight_success\",\"flight_county\",\"flight_province\",\n",
    "               \"flight_region\",\"real_flight_time\",\"mission_success\"]\n",
    "# Execute the \"SELECT *\" query\n",
    "flight = postgresql_to_dataframe(conn, \"select * from flight\", column_names)\n",
    "flight.head()"
   ]
  },
  {
   "cell_type": "code",
   "execution_count": 6,
   "id": "de1c2849",
   "metadata": {},
   "outputs": [
    {
     "name": "stdout",
     "output_type": "stream",
     "text": [
      "<class 'pandas.core.frame.DataFrame'>\n",
      "RangeIndex: 2 entries, 0 to 1\n",
      "Data columns (total 12 columns):\n",
      " #   Column            Non-Null Count  Dtype         \n",
      "---  ------            --------------  -----         \n",
      " 0   flight_id         2 non-null      int64         \n",
      " 1   model_id          2 non-null      int64         \n",
      " 2   mission_id        2 non-null      int64         \n",
      " 3   flight_date       2 non-null      datetime64[ns]\n",
      " 4   landing_date      2 non-null      datetime64[ns]\n",
      " 5   landing_success   2 non-null      object        \n",
      " 6   flight_success    2 non-null      object        \n",
      " 7   flight_county     2 non-null      object        \n",
      " 8   flight_province   2 non-null      object        \n",
      " 9   flight_region     2 non-null      object        \n",
      " 10  real_flight_time  2 non-null      object        \n",
      " 11  mission_success   2 non-null      object        \n",
      "dtypes: datetime64[ns](2), int64(3), object(7)\n",
      "memory usage: 320.0+ bytes\n"
     ]
    }
   ],
   "source": [
    "flight.info() # BASIS  FIRST-LOOK "
   ]
  },
  {
   "cell_type": "code",
   "execution_count": 7,
   "id": "78410742",
   "metadata": {},
   "outputs": [
    {
     "data": {
      "text/html": [
       "<div>\n",
       "<style scoped>\n",
       "    .dataframe tbody tr th:only-of-type {\n",
       "        vertical-align: middle;\n",
       "    }\n",
       "\n",
       "    .dataframe tbody tr th {\n",
       "        vertical-align: top;\n",
       "    }\n",
       "\n",
       "    .dataframe thead th {\n",
       "        text-align: right;\n",
       "    }\n",
       "</style>\n",
       "<table border=\"1\" class=\"dataframe\">\n",
       "  <thead>\n",
       "    <tr style=\"text-align: right;\">\n",
       "      <th></th>\n",
       "      <th>flight_id</th>\n",
       "      <th>model_id</th>\n",
       "      <th>mission_id</th>\n",
       "    </tr>\n",
       "  </thead>\n",
       "  <tbody>\n",
       "    <tr>\n",
       "      <th>count</th>\n",
       "      <td>2.000000</td>\n",
       "      <td>2.0</td>\n",
       "      <td>2.0</td>\n",
       "    </tr>\n",
       "    <tr>\n",
       "      <th>mean</th>\n",
       "      <td>68.500000</td>\n",
       "      <td>3.0</td>\n",
       "      <td>2.0</td>\n",
       "    </tr>\n",
       "    <tr>\n",
       "      <th>std</th>\n",
       "      <td>0.707107</td>\n",
       "      <td>0.0</td>\n",
       "      <td>0.0</td>\n",
       "    </tr>\n",
       "    <tr>\n",
       "      <th>min</th>\n",
       "      <td>68.000000</td>\n",
       "      <td>3.0</td>\n",
       "      <td>2.0</td>\n",
       "    </tr>\n",
       "    <tr>\n",
       "      <th>25%</th>\n",
       "      <td>68.250000</td>\n",
       "      <td>3.0</td>\n",
       "      <td>2.0</td>\n",
       "    </tr>\n",
       "    <tr>\n",
       "      <th>50%</th>\n",
       "      <td>68.500000</td>\n",
       "      <td>3.0</td>\n",
       "      <td>2.0</td>\n",
       "    </tr>\n",
       "    <tr>\n",
       "      <th>75%</th>\n",
       "      <td>68.750000</td>\n",
       "      <td>3.0</td>\n",
       "      <td>2.0</td>\n",
       "    </tr>\n",
       "    <tr>\n",
       "      <th>max</th>\n",
       "      <td>69.000000</td>\n",
       "      <td>3.0</td>\n",
       "      <td>2.0</td>\n",
       "    </tr>\n",
       "  </tbody>\n",
       "</table>\n",
       "</div>"
      ],
      "text/plain": [
       "       flight_id  model_id  mission_id\n",
       "count   2.000000       2.0         2.0\n",
       "mean   68.500000       3.0         2.0\n",
       "std     0.707107       0.0         0.0\n",
       "min    68.000000       3.0         2.0\n",
       "25%    68.250000       3.0         2.0\n",
       "50%    68.500000       3.0         2.0\n",
       "75%    68.750000       3.0         2.0\n",
       "max    69.000000       3.0         2.0"
      ]
     },
     "execution_count": 7,
     "metadata": {},
     "output_type": "execute_result"
    }
   ],
   "source": [
    "flight.describe() #DESCRIPTIVE STATISTICS"
   ]
  },
  {
   "cell_type": "code",
   "execution_count": 8,
   "id": "97771cb0",
   "metadata": {},
   "outputs": [
    {
     "data": {
      "text/html": [
       "<div>\n",
       "<style scoped>\n",
       "    .dataframe tbody tr th:only-of-type {\n",
       "        vertical-align: middle;\n",
       "    }\n",
       "\n",
       "    .dataframe tbody tr th {\n",
       "        vertical-align: top;\n",
       "    }\n",
       "\n",
       "    .dataframe thead th {\n",
       "        text-align: right;\n",
       "    }\n",
       "</style>\n",
       "<table border=\"1\" class=\"dataframe\">\n",
       "  <thead>\n",
       "    <tr style=\"text-align: right;\">\n",
       "      <th></th>\n",
       "      <th>flight_id</th>\n",
       "      <th>timee</th>\n",
       "      <th>lat</th>\n",
       "      <th>lon</th>\n",
       "      <th>alt</th>\n",
       "    </tr>\n",
       "  </thead>\n",
       "  <tbody>\n",
       "    <tr>\n",
       "      <th>0</th>\n",
       "      <td>68</td>\n",
       "      <td>00:00:00.367295</td>\n",
       "      <td>40.137826</td>\n",
       "      <td>32.548747</td>\n",
       "      <td>0.093732</td>\n",
       "    </tr>\n",
       "    <tr>\n",
       "      <th>1</th>\n",
       "      <td>68</td>\n",
       "      <td>00:00:00.367455</td>\n",
       "      <td>40.137826</td>\n",
       "      <td>32.548747</td>\n",
       "      <td>0.093732</td>\n",
       "    </tr>\n",
       "    <tr>\n",
       "      <th>2</th>\n",
       "      <td>68</td>\n",
       "      <td>00:00:00.367850</td>\n",
       "      <td>40.137826</td>\n",
       "      <td>32.548746</td>\n",
       "      <td>0.093730</td>\n",
       "    </tr>\n",
       "    <tr>\n",
       "      <th>3</th>\n",
       "      <td>68</td>\n",
       "      <td>00:00:00.368248</td>\n",
       "      <td>40.137827</td>\n",
       "      <td>32.548745</td>\n",
       "      <td>0.093730</td>\n",
       "    </tr>\n",
       "    <tr>\n",
       "      <th>4</th>\n",
       "      <td>68</td>\n",
       "      <td>00:00:00.368850</td>\n",
       "      <td>40.137826</td>\n",
       "      <td>32.548745</td>\n",
       "      <td>0.093731</td>\n",
       "    </tr>\n",
       "  </tbody>\n",
       "</table>\n",
       "</div>"
      ],
      "text/plain": [
       "   flight_id            timee        lat        lon       alt\n",
       "0         68  00:00:00.367295  40.137826  32.548747  0.093732\n",
       "1         68  00:00:00.367455  40.137826  32.548747  0.093732\n",
       "2         68  00:00:00.367850  40.137826  32.548746  0.093730\n",
       "3         68  00:00:00.368248  40.137827  32.548745  0.093730\n",
       "4         68  00:00:00.368850  40.137826  32.548745  0.093731"
      ]
     },
     "execution_count": 8,
     "metadata": {},
     "output_type": "execute_result"
    }
   ],
   "source": [
    "gps.head() # FIRST 5 ROWS"
   ]
  },
  {
   "cell_type": "code",
   "execution_count": 9,
   "id": "9b8934d6",
   "metadata": {},
   "outputs": [
    {
     "data": {
      "text/html": [
       "<div>\n",
       "<style scoped>\n",
       "    .dataframe tbody tr th:only-of-type {\n",
       "        vertical-align: middle;\n",
       "    }\n",
       "\n",
       "    .dataframe tbody tr th {\n",
       "        vertical-align: top;\n",
       "    }\n",
       "\n",
       "    .dataframe thead th {\n",
       "        text-align: right;\n",
       "    }\n",
       "</style>\n",
       "<table border=\"1\" class=\"dataframe\">\n",
       "  <thead>\n",
       "    <tr style=\"text-align: right;\">\n",
       "      <th></th>\n",
       "      <th>flight_id</th>\n",
       "      <th>lat</th>\n",
       "      <th>lon</th>\n",
       "      <th>alt</th>\n",
       "    </tr>\n",
       "  </thead>\n",
       "  <tbody>\n",
       "    <tr>\n",
       "      <th>count</th>\n",
       "      <td>435.000000</td>\n",
       "      <td>435.000000</td>\n",
       "      <td>435.000000</td>\n",
       "      <td>435.000000</td>\n",
       "    </tr>\n",
       "    <tr>\n",
       "      <th>mean</th>\n",
       "      <td>68.213793</td>\n",
       "      <td>40.119046</td>\n",
       "      <td>32.557944</td>\n",
       "      <td>0.102883</td>\n",
       "    </tr>\n",
       "    <tr>\n",
       "      <th>std</th>\n",
       "      <td>0.410455</td>\n",
       "      <td>0.036305</td>\n",
       "      <td>0.020006</td>\n",
       "      <td>0.012345</td>\n",
       "    </tr>\n",
       "    <tr>\n",
       "      <th>min</th>\n",
       "      <td>68.000000</td>\n",
       "      <td>40.049586</td>\n",
       "      <td>32.542902</td>\n",
       "      <td>0.081838</td>\n",
       "    </tr>\n",
       "    <tr>\n",
       "      <th>25%</th>\n",
       "      <td>68.000000</td>\n",
       "      <td>40.134027</td>\n",
       "      <td>32.545054</td>\n",
       "      <td>0.094356</td>\n",
       "    </tr>\n",
       "    <tr>\n",
       "      <th>50%</th>\n",
       "      <td>68.000000</td>\n",
       "      <td>40.137902</td>\n",
       "      <td>32.548745</td>\n",
       "      <td>0.108835</td>\n",
       "    </tr>\n",
       "    <tr>\n",
       "      <th>75%</th>\n",
       "      <td>68.000000</td>\n",
       "      <td>40.139505</td>\n",
       "      <td>32.552647</td>\n",
       "      <td>0.113733</td>\n",
       "    </tr>\n",
       "    <tr>\n",
       "      <th>max</th>\n",
       "      <td>69.000000</td>\n",
       "      <td>40.140395</td>\n",
       "      <td>32.595959</td>\n",
       "      <td>0.114328</td>\n",
       "    </tr>\n",
       "  </tbody>\n",
       "</table>\n",
       "</div>"
      ],
      "text/plain": [
       "        flight_id         lat         lon         alt\n",
       "count  435.000000  435.000000  435.000000  435.000000\n",
       "mean    68.213793   40.119046   32.557944    0.102883\n",
       "std      0.410455    0.036305    0.020006    0.012345\n",
       "min     68.000000   40.049586   32.542902    0.081838\n",
       "25%     68.000000   40.134027   32.545054    0.094356\n",
       "50%     68.000000   40.137902   32.548745    0.108835\n",
       "75%     68.000000   40.139505   32.552647    0.113733\n",
       "max     69.000000   40.140395   32.595959    0.114328"
      ]
     },
     "execution_count": 9,
     "metadata": {},
     "output_type": "execute_result"
    }
   ],
   "source": [
    "gps.describe() #DESCRIPTIVE STATISTICS"
   ]
  },
  {
   "cell_type": "code",
   "execution_count": 10,
   "id": "3ccbd97b",
   "metadata": {},
   "outputs": [
    {
     "name": "stdout",
     "output_type": "stream",
     "text": [
      "<class 'pandas.core.frame.DataFrame'>\n",
      "RangeIndex: 10801 entries, 0 to 10800\n",
      "Data columns (total 6 columns):\n",
      " #   Column     Non-Null Count  Dtype         \n",
      "---  ------     --------------  -----         \n",
      " 0   flight_id  10801 non-null  int64         \n",
      " 1   timee      10801 non-null  datetime64[ns]\n",
      " 2   xyz0       10801 non-null  float64       \n",
      " 3   xyz1       10801 non-null  float64       \n",
      " 4   xyz2       10801 non-null  float64       \n",
      " 5   typee      10801 non-null  object        \n",
      "dtypes: datetime64[ns](1), float64(3), int64(1), object(1)\n",
      "memory usage: 506.4+ KB\n"
     ]
    }
   ],
   "source": [
    "ang_vel.info()  # BASIS  FIRST-LOOK "
   ]
  },
  {
   "cell_type": "code",
   "execution_count": 11,
   "id": "6b7cb5fd",
   "metadata": {},
   "outputs": [
    {
     "data": {
      "text/html": [
       "<div>\n",
       "<style scoped>\n",
       "    .dataframe tbody tr th:only-of-type {\n",
       "        vertical-align: middle;\n",
       "    }\n",
       "\n",
       "    .dataframe tbody tr th {\n",
       "        vertical-align: top;\n",
       "    }\n",
       "\n",
       "    .dataframe thead th {\n",
       "        text-align: right;\n",
       "    }\n",
       "</style>\n",
       "<table border=\"1\" class=\"dataframe\">\n",
       "  <thead>\n",
       "    <tr style=\"text-align: right;\">\n",
       "      <th></th>\n",
       "      <th>flight_id</th>\n",
       "      <th>timee</th>\n",
       "      <th>xyz0</th>\n",
       "      <th>xyz1</th>\n",
       "      <th>xyz2</th>\n",
       "      <th>typee</th>\n",
       "    </tr>\n",
       "  </thead>\n",
       "  <tbody>\n",
       "    <tr>\n",
       "      <th>0</th>\n",
       "      <td>68</td>\n",
       "      <td>1970-01-01 00:00:00.367386</td>\n",
       "      <td>-0.143561</td>\n",
       "      <td>0.156800</td>\n",
       "      <td>-0.083174</td>\n",
       "      <td>vehicle_angular_velocity_0</td>\n",
       "    </tr>\n",
       "    <tr>\n",
       "      <th>1</th>\n",
       "      <td>68</td>\n",
       "      <td>1970-01-01 00:00:00.367388</td>\n",
       "      <td>-0.146729</td>\n",
       "      <td>0.154581</td>\n",
       "      <td>-0.082681</td>\n",
       "      <td>vehicle_angular_velocity_0</td>\n",
       "    </tr>\n",
       "    <tr>\n",
       "      <th>2</th>\n",
       "      <td>68</td>\n",
       "      <td>1970-01-01 00:00:00.367408</td>\n",
       "      <td>-0.178442</td>\n",
       "      <td>0.136067</td>\n",
       "      <td>-0.090833</td>\n",
       "      <td>vehicle_angular_velocity_0</td>\n",
       "    </tr>\n",
       "    <tr>\n",
       "      <th>3</th>\n",
       "      <td>68</td>\n",
       "      <td>1970-01-01 00:00:00.367426</td>\n",
       "      <td>-0.149040</td>\n",
       "      <td>0.122860</td>\n",
       "      <td>-0.095668</td>\n",
       "      <td>vehicle_angular_velocity_0</td>\n",
       "    </tr>\n",
       "    <tr>\n",
       "      <th>4</th>\n",
       "      <td>68</td>\n",
       "      <td>1970-01-01 00:00:00.367448</td>\n",
       "      <td>-0.158996</td>\n",
       "      <td>0.100193</td>\n",
       "      <td>-0.101502</td>\n",
       "      <td>vehicle_angular_velocity_0</td>\n",
       "    </tr>\n",
       "  </tbody>\n",
       "</table>\n",
       "</div>"
      ],
      "text/plain": [
       "   flight_id                      timee      xyz0      xyz1      xyz2  \\\n",
       "0         68 1970-01-01 00:00:00.367386 -0.143561  0.156800 -0.083174   \n",
       "1         68 1970-01-01 00:00:00.367388 -0.146729  0.154581 -0.082681   \n",
       "2         68 1970-01-01 00:00:00.367408 -0.178442  0.136067 -0.090833   \n",
       "3         68 1970-01-01 00:00:00.367426 -0.149040  0.122860 -0.095668   \n",
       "4         68 1970-01-01 00:00:00.367448 -0.158996  0.100193 -0.101502   \n",
       "\n",
       "                        typee  \n",
       "0  vehicle_angular_velocity_0  \n",
       "1  vehicle_angular_velocity_0  \n",
       "2  vehicle_angular_velocity_0  \n",
       "3  vehicle_angular_velocity_0  \n",
       "4  vehicle_angular_velocity_0  "
      ]
     },
     "execution_count": 11,
     "metadata": {},
     "output_type": "execute_result"
    }
   ],
   "source": [
    "ang_vel.head() # FIRST 5 ROWS"
   ]
  },
  {
   "cell_type": "code",
   "execution_count": 12,
   "id": "26f1997d",
   "metadata": {},
   "outputs": [
    {
     "data": {
      "text/html": [
       "<div>\n",
       "<style scoped>\n",
       "    .dataframe tbody tr th:only-of-type {\n",
       "        vertical-align: middle;\n",
       "    }\n",
       "\n",
       "    .dataframe tbody tr th {\n",
       "        vertical-align: top;\n",
       "    }\n",
       "\n",
       "    .dataframe thead th {\n",
       "        text-align: right;\n",
       "    }\n",
       "</style>\n",
       "<table border=\"1\" class=\"dataframe\">\n",
       "  <thead>\n",
       "    <tr style=\"text-align: right;\">\n",
       "      <th></th>\n",
       "      <th>flight_id</th>\n",
       "      <th>xyz0</th>\n",
       "      <th>xyz1</th>\n",
       "      <th>xyz2</th>\n",
       "    </tr>\n",
       "  </thead>\n",
       "  <tbody>\n",
       "    <tr>\n",
       "      <th>count</th>\n",
       "      <td>10801.000000</td>\n",
       "      <td>10801.000000</td>\n",
       "      <td>10801.000000</td>\n",
       "      <td>10801.000000</td>\n",
       "    </tr>\n",
       "    <tr>\n",
       "      <th>mean</th>\n",
       "      <td>68.213314</td>\n",
       "      <td>0.000763</td>\n",
       "      <td>0.083094</td>\n",
       "      <td>-0.001696</td>\n",
       "    </tr>\n",
       "    <tr>\n",
       "      <th>std</th>\n",
       "      <td>0.409666</td>\n",
       "      <td>0.275902</td>\n",
       "      <td>0.255333</td>\n",
       "      <td>0.205654</td>\n",
       "    </tr>\n",
       "    <tr>\n",
       "      <th>min</th>\n",
       "      <td>68.000000</td>\n",
       "      <td>-2.193210</td>\n",
       "      <td>-1.218327</td>\n",
       "      <td>-0.716331</td>\n",
       "    </tr>\n",
       "    <tr>\n",
       "      <th>25%</th>\n",
       "      <td>68.000000</td>\n",
       "      <td>-0.110651</td>\n",
       "      <td>-0.032116</td>\n",
       "      <td>-0.084549</td>\n",
       "    </tr>\n",
       "    <tr>\n",
       "      <th>50%</th>\n",
       "      <td>68.000000</td>\n",
       "      <td>0.000571</td>\n",
       "      <td>0.011874</td>\n",
       "      <td>0.000354</td>\n",
       "    </tr>\n",
       "    <tr>\n",
       "      <th>75%</th>\n",
       "      <td>68.000000</td>\n",
       "      <td>0.117936</td>\n",
       "      <td>0.152513</td>\n",
       "      <td>0.084992</td>\n",
       "    </tr>\n",
       "    <tr>\n",
       "      <th>max</th>\n",
       "      <td>69.000000</td>\n",
       "      <td>1.941369</td>\n",
       "      <td>1.132385</td>\n",
       "      <td>0.783938</td>\n",
       "    </tr>\n",
       "  </tbody>\n",
       "</table>\n",
       "</div>"
      ],
      "text/plain": [
       "          flight_id          xyz0          xyz1          xyz2\n",
       "count  10801.000000  10801.000000  10801.000000  10801.000000\n",
       "mean      68.213314      0.000763      0.083094     -0.001696\n",
       "std        0.409666      0.275902      0.255333      0.205654\n",
       "min       68.000000     -2.193210     -1.218327     -0.716331\n",
       "25%       68.000000     -0.110651     -0.032116     -0.084549\n",
       "50%       68.000000      0.000571      0.011874      0.000354\n",
       "75%       68.000000      0.117936      0.152513      0.084992\n",
       "max       69.000000      1.941369      1.132385      0.783938"
      ]
     },
     "execution_count": 12,
     "metadata": {},
     "output_type": "execute_result"
    }
   ],
   "source": [
    "ang_vel.describe() #DESCRIPTIVE STATISTICS"
   ]
  },
  {
   "cell_type": "code",
   "execution_count": 13,
   "id": "14f0bc92",
   "metadata": {},
   "outputs": [
    {
     "data": {
      "text/html": [
       "<div>\n",
       "<style scoped>\n",
       "    .dataframe tbody tr th:only-of-type {\n",
       "        vertical-align: middle;\n",
       "    }\n",
       "\n",
       "    .dataframe tbody tr th {\n",
       "        vertical-align: top;\n",
       "    }\n",
       "\n",
       "    .dataframe thead th {\n",
       "        text-align: right;\n",
       "    }\n",
       "</style>\n",
       "<table border=\"1\" class=\"dataframe\">\n",
       "  <thead>\n",
       "    <tr style=\"text-align: right;\">\n",
       "      <th></th>\n",
       "      <th>flight_id</th>\n",
       "      <th>lat</th>\n",
       "      <th>lon</th>\n",
       "      <th>alt</th>\n",
       "    </tr>\n",
       "  </thead>\n",
       "  <tbody>\n",
       "    <tr>\n",
       "      <th>flight_id</th>\n",
       "      <td>1.000000</td>\n",
       "      <td>-0.998619</td>\n",
       "      <td>0.989678</td>\n",
       "      <td>-0.866966</td>\n",
       "    </tr>\n",
       "    <tr>\n",
       "      <th>lat</th>\n",
       "      <td>-0.998619</td>\n",
       "      <td>1.000000</td>\n",
       "      <td>-0.995038</td>\n",
       "      <td>0.858214</td>\n",
       "    </tr>\n",
       "    <tr>\n",
       "      <th>lon</th>\n",
       "      <td>0.989678</td>\n",
       "      <td>-0.995038</td>\n",
       "      <td>1.000000</td>\n",
       "      <td>-0.838310</td>\n",
       "    </tr>\n",
       "    <tr>\n",
       "      <th>alt</th>\n",
       "      <td>-0.866966</td>\n",
       "      <td>0.858214</td>\n",
       "      <td>-0.838310</td>\n",
       "      <td>1.000000</td>\n",
       "    </tr>\n",
       "  </tbody>\n",
       "</table>\n",
       "</div>"
      ],
      "text/plain": [
       "           flight_id       lat       lon       alt\n",
       "flight_id   1.000000 -0.998619  0.989678 -0.866966\n",
       "lat        -0.998619  1.000000 -0.995038  0.858214\n",
       "lon         0.989678 -0.995038  1.000000 -0.838310\n",
       "alt        -0.866966  0.858214 -0.838310  1.000000"
      ]
     },
     "execution_count": 13,
     "metadata": {},
     "output_type": "execute_result"
    }
   ],
   "source": [
    "gps.corr(method='pearson') # DO CORRELATION TEST"
   ]
  },
  {
   "cell_type": "code",
   "execution_count": 14,
   "id": "5fc090a4",
   "metadata": {},
   "outputs": [
    {
     "data": {
      "text/html": [
       "<div>\n",
       "<style scoped>\n",
       "    .dataframe tbody tr th:only-of-type {\n",
       "        vertical-align: middle;\n",
       "    }\n",
       "\n",
       "    .dataframe tbody tr th {\n",
       "        vertical-align: top;\n",
       "    }\n",
       "\n",
       "    .dataframe thead th {\n",
       "        text-align: right;\n",
       "    }\n",
       "</style>\n",
       "<table border=\"1\" class=\"dataframe\">\n",
       "  <thead>\n",
       "    <tr style=\"text-align: right;\">\n",
       "      <th></th>\n",
       "      <th>flight_id</th>\n",
       "      <th>xyz0</th>\n",
       "      <th>xyz1</th>\n",
       "      <th>xyz2</th>\n",
       "    </tr>\n",
       "  </thead>\n",
       "  <tbody>\n",
       "    <tr>\n",
       "      <th>flight_id</th>\n",
       "      <td>1.000000</td>\n",
       "      <td>-0.002273</td>\n",
       "      <td>-0.169081</td>\n",
       "      <td>0.003678</td>\n",
       "    </tr>\n",
       "    <tr>\n",
       "      <th>xyz0</th>\n",
       "      <td>-0.002273</td>\n",
       "      <td>1.000000</td>\n",
       "      <td>0.085170</td>\n",
       "      <td>-0.092967</td>\n",
       "    </tr>\n",
       "    <tr>\n",
       "      <th>xyz1</th>\n",
       "      <td>-0.169081</td>\n",
       "      <td>0.085170</td>\n",
       "      <td>1.000000</td>\n",
       "      <td>0.038782</td>\n",
       "    </tr>\n",
       "    <tr>\n",
       "      <th>xyz2</th>\n",
       "      <td>0.003678</td>\n",
       "      <td>-0.092967</td>\n",
       "      <td>0.038782</td>\n",
       "      <td>1.000000</td>\n",
       "    </tr>\n",
       "  </tbody>\n",
       "</table>\n",
       "</div>"
      ],
      "text/plain": [
       "           flight_id      xyz0      xyz1      xyz2\n",
       "flight_id   1.000000 -0.002273 -0.169081  0.003678\n",
       "xyz0       -0.002273  1.000000  0.085170 -0.092967\n",
       "xyz1       -0.169081  0.085170  1.000000  0.038782\n",
       "xyz2        0.003678 -0.092967  0.038782  1.000000"
      ]
     },
     "execution_count": 14,
     "metadata": {},
     "output_type": "execute_result"
    }
   ],
   "source": [
    "ang_vel.corr(method='pearson') # DO CORRELATION TEST"
   ]
  },
  {
   "cell_type": "code",
   "execution_count": 15,
   "id": "84a942c7",
   "metadata": {},
   "outputs": [],
   "source": [
    "x_range=ang_vel[\"xyz0\"]   # ASSIGMENT\n",
    "y_range=ang_vel[\"xyz1\"]    # ASSIGMENT"
   ]
  },
  {
   "cell_type": "code",
   "execution_count": 16,
   "id": "e030c530",
   "metadata": {},
   "outputs": [
    {
     "name": "stderr",
     "output_type": "stream",
     "text": [
      "C:\\Users\\PC\\AppData\\Local\\Temp\\ipykernel_4872\\621939035.py:1: FutureWarning: In a future version of pandas all arguments of concat except for the argument 'objs' will be keyword-only.\n",
      "  anom1=pd.concat([x_range,y_range],1) # AGGREGATE TWO COLUMNS\n"
     ]
    }
   ],
   "source": [
    "anom1=pd.concat([x_range,y_range],1) # AGGREGATE TWO COLUMNS"
   ]
  },
  {
   "cell_type": "code",
   "execution_count": 17,
   "id": "91b3282c",
   "metadata": {},
   "outputs": [
    {
     "data": {
      "text/html": [
       "<div>\n",
       "<style scoped>\n",
       "    .dataframe tbody tr th:only-of-type {\n",
       "        vertical-align: middle;\n",
       "    }\n",
       "\n",
       "    .dataframe tbody tr th {\n",
       "        vertical-align: top;\n",
       "    }\n",
       "\n",
       "    .dataframe thead th {\n",
       "        text-align: right;\n",
       "    }\n",
       "</style>\n",
       "<table border=\"1\" class=\"dataframe\">\n",
       "  <thead>\n",
       "    <tr style=\"text-align: right;\">\n",
       "      <th></th>\n",
       "      <th>xyz0</th>\n",
       "      <th>xyz1</th>\n",
       "    </tr>\n",
       "  </thead>\n",
       "  <tbody>\n",
       "    <tr>\n",
       "      <th>0</th>\n",
       "      <td>-0.143561</td>\n",
       "      <td>0.156800</td>\n",
       "    </tr>\n",
       "    <tr>\n",
       "      <th>1</th>\n",
       "      <td>-0.146729</td>\n",
       "      <td>0.154581</td>\n",
       "    </tr>\n",
       "    <tr>\n",
       "      <th>2</th>\n",
       "      <td>-0.178442</td>\n",
       "      <td>0.136067</td>\n",
       "    </tr>\n",
       "    <tr>\n",
       "      <th>3</th>\n",
       "      <td>-0.149040</td>\n",
       "      <td>0.122860</td>\n",
       "    </tr>\n",
       "    <tr>\n",
       "      <th>4</th>\n",
       "      <td>-0.158996</td>\n",
       "      <td>0.100193</td>\n",
       "    </tr>\n",
       "  </tbody>\n",
       "</table>\n",
       "</div>"
      ],
      "text/plain": [
       "       xyz0      xyz1\n",
       "0 -0.143561  0.156800\n",
       "1 -0.146729  0.154581\n",
       "2 -0.178442  0.136067\n",
       "3 -0.149040  0.122860\n",
       "4 -0.158996  0.100193"
      ]
     },
     "execution_count": 17,
     "metadata": {},
     "output_type": "execute_result"
    }
   ],
   "source": [
    "anom1.head()"
   ]
  },
  {
   "cell_type": "code",
   "execution_count": 18,
   "id": "ba852c1e",
   "metadata": {},
   "outputs": [
    {
     "data": {
      "text/html": [
       "<div>\n",
       "<style scoped>\n",
       "    .dataframe tbody tr th:only-of-type {\n",
       "        vertical-align: middle;\n",
       "    }\n",
       "\n",
       "    .dataframe tbody tr th {\n",
       "        vertical-align: top;\n",
       "    }\n",
       "\n",
       "    .dataframe thead th {\n",
       "        text-align: right;\n",
       "    }\n",
       "</style>\n",
       "<table border=\"1\" class=\"dataframe\">\n",
       "  <thead>\n",
       "    <tr style=\"text-align: right;\">\n",
       "      <th></th>\n",
       "      <th>xyz0</th>\n",
       "      <th>xyz1</th>\n",
       "    </tr>\n",
       "  </thead>\n",
       "  <tbody>\n",
       "    <tr>\n",
       "      <th>count</th>\n",
       "      <td>10801.000000</td>\n",
       "      <td>10801.000000</td>\n",
       "    </tr>\n",
       "    <tr>\n",
       "      <th>mean</th>\n",
       "      <td>0.000763</td>\n",
       "      <td>0.083094</td>\n",
       "    </tr>\n",
       "    <tr>\n",
       "      <th>std</th>\n",
       "      <td>0.275902</td>\n",
       "      <td>0.255333</td>\n",
       "    </tr>\n",
       "    <tr>\n",
       "      <th>min</th>\n",
       "      <td>-2.193210</td>\n",
       "      <td>-1.218327</td>\n",
       "    </tr>\n",
       "    <tr>\n",
       "      <th>25%</th>\n",
       "      <td>-0.110651</td>\n",
       "      <td>-0.032116</td>\n",
       "    </tr>\n",
       "    <tr>\n",
       "      <th>50%</th>\n",
       "      <td>0.000571</td>\n",
       "      <td>0.011874</td>\n",
       "    </tr>\n",
       "    <tr>\n",
       "      <th>75%</th>\n",
       "      <td>0.117936</td>\n",
       "      <td>0.152513</td>\n",
       "    </tr>\n",
       "    <tr>\n",
       "      <th>max</th>\n",
       "      <td>1.941369</td>\n",
       "      <td>1.132385</td>\n",
       "    </tr>\n",
       "  </tbody>\n",
       "</table>\n",
       "</div>"
      ],
      "text/plain": [
       "               xyz0          xyz1\n",
       "count  10801.000000  10801.000000\n",
       "mean       0.000763      0.083094\n",
       "std        0.275902      0.255333\n",
       "min       -2.193210     -1.218327\n",
       "25%       -0.110651     -0.032116\n",
       "50%        0.000571      0.011874\n",
       "75%        0.117936      0.152513\n",
       "max        1.941369      1.132385"
      ]
     },
     "execution_count": 18,
     "metadata": {},
     "output_type": "execute_result"
    }
   ],
   "source": [
    "anom1.describe()  # DESCRIPTIVE STATISTICS"
   ]
  },
  {
   "cell_type": "code",
   "execution_count": 19,
   "id": "f3bb00e3",
   "metadata": {},
   "outputs": [
    {
     "data": {
      "text/html": [
       "<div>\n",
       "<style scoped>\n",
       "    .dataframe tbody tr th:only-of-type {\n",
       "        vertical-align: middle;\n",
       "    }\n",
       "\n",
       "    .dataframe tbody tr th {\n",
       "        vertical-align: top;\n",
       "    }\n",
       "\n",
       "    .dataframe thead th {\n",
       "        text-align: right;\n",
       "    }\n",
       "</style>\n",
       "<table border=\"1\" class=\"dataframe\">\n",
       "  <thead>\n",
       "    <tr style=\"text-align: right;\">\n",
       "      <th></th>\n",
       "      <th>xyz0</th>\n",
       "      <th>xyz1</th>\n",
       "    </tr>\n",
       "  </thead>\n",
       "  <tbody>\n",
       "    <tr>\n",
       "      <th>9315</th>\n",
       "      <td>-2.19321</td>\n",
       "      <td>0.05995</td>\n",
       "    </tr>\n",
       "  </tbody>\n",
       "</table>\n",
       "</div>"
      ],
      "text/plain": [
       "         xyz0     xyz1\n",
       "9315 -2.19321  0.05995"
      ]
     },
     "execution_count": 19,
     "metadata": {},
     "output_type": "execute_result"
    }
   ],
   "source": [
    "anom1[abs(anom1[\"xyz0\"] - anom1[\"xyz1\"])>=2.2531600000000003] # max difference"
   ]
  },
  {
   "cell_type": "code",
   "execution_count": 20,
   "id": "29035523",
   "metadata": {},
   "outputs": [],
   "source": [
    "radical=anom1[abs(anom1[\"xyz0\"] - anom1[\"xyz1\"])>=2.2531600000000003*0.3] #threshold max difference %30"
   ]
  },
  {
   "cell_type": "code",
   "execution_count": 21,
   "id": "41a2c1f4",
   "metadata": {
    "scrolled": true
   },
   "outputs": [],
   "source": [
    "import numpy as np\n",
    "radical_index=list(radical.index)\n",
    "a = np.array(radical_index) # flatten index\n",
    "a=a.flatten()\n"
   ]
  },
  {
   "cell_type": "code",
   "execution_count": 22,
   "id": "e8149dad",
   "metadata": {},
   "outputs": [
    {
     "data": {
      "image/png": "[encoded data removed]",
      "text/plain": [
       "<Figure size 432x288 with 1 Axes>"
      ]
     },
     "metadata": {
      "needs_background": "light"
     },
     "output_type": "display_data"
    }
   ],
   "source": [
    "\n",
    "import matplotlib.pyplot as plt\n",
    "\n",
    "plt.scatter(anom1[\"xyz0\"], anom1[\"xyz1\"])\n",
    "plt.scatter(radical[\"xyz0\"],radical[\"xyz1\"], color='r')\n",
    "plt.xlabel(\"x angle velocity\")\n",
    "plt.ylabel(\"y angle velocity\")\n",
    "plt.show()\n"
   ]
  },
  {
   "cell_type": "code",
   "execution_count": 23,
   "id": "7ee99fd5",
   "metadata": {},
   "outputs": [
    {
     "data": {
      "text/html": [
       "<div>\n",
       "<style scoped>\n",
       "    .dataframe tbody tr th:only-of-type {\n",
       "        vertical-align: middle;\n",
       "    }\n",
       "\n",
       "    .dataframe tbody tr th {\n",
       "        vertical-align: top;\n",
       "    }\n",
       "\n",
       "    .dataframe thead th {\n",
       "        text-align: right;\n",
       "    }\n",
       "</style>\n",
       "<table border=\"1\" class=\"dataframe\">\n",
       "  <thead>\n",
       "    <tr style=\"text-align: right;\">\n",
       "      <th></th>\n",
       "      <th>timee</th>\n",
       "    </tr>\n",
       "  </thead>\n",
       "  <tbody>\n",
       "    <tr>\n",
       "      <th>213</th>\n",
       "      <td>1970-01-01 00:00:00.371626</td>\n",
       "    </tr>\n",
       "    <tr>\n",
       "      <th>214</th>\n",
       "      <td>1970-01-01 00:00:00.371648</td>\n",
       "    </tr>\n",
       "    <tr>\n",
       "      <th>215</th>\n",
       "      <td>1970-01-01 00:00:00.371668</td>\n",
       "    </tr>\n",
       "    <tr>\n",
       "      <th>216</th>\n",
       "      <td>1970-01-01 00:00:00.371688</td>\n",
       "    </tr>\n",
       "    <tr>\n",
       "      <th>217</th>\n",
       "      <td>1970-01-01 00:00:00.371706</td>\n",
       "    </tr>\n",
       "    <tr>\n",
       "      <th>...</th>\n",
       "      <td>...</td>\n",
       "    </tr>\n",
       "    <tr>\n",
       "      <th>9405</th>\n",
       "      <td>1970-01-01 00:00:00.076895</td>\n",
       "    </tr>\n",
       "    <tr>\n",
       "      <th>9406</th>\n",
       "      <td>1970-01-01 00:00:00.076918</td>\n",
       "    </tr>\n",
       "    <tr>\n",
       "      <th>10556</th>\n",
       "      <td>1970-01-01 00:00:00.099915</td>\n",
       "    </tr>\n",
       "    <tr>\n",
       "      <th>10557</th>\n",
       "      <td>1970-01-01 00:00:00.099935</td>\n",
       "    </tr>\n",
       "    <tr>\n",
       "      <th>10678</th>\n",
       "      <td>1970-01-01 00:00:00.102355</td>\n",
       "    </tr>\n",
       "  </tbody>\n",
       "</table>\n",
       "<p>991 rows × 1 columns</p>\n",
       "</div>"
      ],
      "text/plain": [
       "                           timee\n",
       "213   1970-01-01 00:00:00.371626\n",
       "214   1970-01-01 00:00:00.371648\n",
       "215   1970-01-01 00:00:00.371668\n",
       "216   1970-01-01 00:00:00.371688\n",
       "217   1970-01-01 00:00:00.371706\n",
       "...                          ...\n",
       "9405  1970-01-01 00:00:00.076895\n",
       "9406  1970-01-01 00:00:00.076918\n",
       "10556 1970-01-01 00:00:00.099915\n",
       "10557 1970-01-01 00:00:00.099935\n",
       "10678 1970-01-01 00:00:00.102355\n",
       "\n",
       "[991 rows x 1 columns]"
      ]
     },
     "execution_count": 23,
     "metadata": {},
     "output_type": "execute_result"
    }
   ],
   "source": [
    "radical_t=ang_vel[[\"timee\"]].filter(items=a,axis=0)\n",
    "radical_t  #ANOMALY TİME"
   ]
  },
  {
   "cell_type": "code",
   "execution_count": 24,
   "id": "bc87e5de",
   "metadata": {},
   "outputs": [
    {
     "data": {
      "text/plain": [
       "Text(0, 0.5, 'anomaly time')"
      ]
     },
     "execution_count": 24,
     "metadata": {},
     "output_type": "execute_result"
    },
    {
     "data": {
      "image/png": "[encoded data removed]",
      "text/plain": [
       "<Figure size 432x288 with 1 Axes>"
      ]
     },
     "metadata": {
      "needs_background": "light"
     },
     "output_type": "display_data"
    }
   ],
   "source": [
    "import seaborn as sns\n",
    "sns.scatterplot(x=ang_vel[\"timee\"],y=radical_t[\"timee\"]) # radical time show blue\n",
    "plt.xlabel(\"all time\")\n",
    "plt.ylabel(\"anomaly time\")"
   ]
  },
  {
   "cell_type": "code",
   "execution_count": 25,
   "id": "72a9b068",
   "metadata": {},
   "outputs": [
    {
     "data": {
      "text/html": [
       "<div>\n",
       "<style scoped>\n",
       "    .dataframe tbody tr th:only-of-type {\n",
       "        vertical-align: middle;\n",
       "    }\n",
       "\n",
       "    .dataframe tbody tr th {\n",
       "        vertical-align: top;\n",
       "    }\n",
       "\n",
       "    .dataframe thead th {\n",
       "        text-align: right;\n",
       "    }\n",
       "</style>\n",
       "<table border=\"1\" class=\"dataframe\">\n",
       "  <thead>\n",
       "    <tr style=\"text-align: right;\">\n",
       "      <th></th>\n",
       "      <th>flight_id</th>\n",
       "      <th>timee</th>\n",
       "      <th>lat</th>\n",
       "      <th>lon</th>\n",
       "      <th>alt</th>\n",
       "    </tr>\n",
       "  </thead>\n",
       "  <tbody>\n",
       "    <tr>\n",
       "      <th>0</th>\n",
       "      <td>68</td>\n",
       "      <td>00:00:00.367295</td>\n",
       "      <td>40.137826</td>\n",
       "      <td>32.548747</td>\n",
       "      <td>0.093732</td>\n",
       "    </tr>\n",
       "    <tr>\n",
       "      <th>1</th>\n",
       "      <td>68</td>\n",
       "      <td>00:00:00.367455</td>\n",
       "      <td>40.137826</td>\n",
       "      <td>32.548747</td>\n",
       "      <td>0.093732</td>\n",
       "    </tr>\n",
       "    <tr>\n",
       "      <th>2</th>\n",
       "      <td>68</td>\n",
       "      <td>00:00:00.367850</td>\n",
       "      <td>40.137826</td>\n",
       "      <td>32.548746</td>\n",
       "      <td>0.093730</td>\n",
       "    </tr>\n",
       "    <tr>\n",
       "      <th>3</th>\n",
       "      <td>68</td>\n",
       "      <td>00:00:00.368248</td>\n",
       "      <td>40.137827</td>\n",
       "      <td>32.548745</td>\n",
       "      <td>0.093730</td>\n",
       "    </tr>\n",
       "    <tr>\n",
       "      <th>4</th>\n",
       "      <td>68</td>\n",
       "      <td>00:00:00.368850</td>\n",
       "      <td>40.137826</td>\n",
       "      <td>32.548745</td>\n",
       "      <td>0.093731</td>\n",
       "    </tr>\n",
       "  </tbody>\n",
       "</table>\n",
       "</div>"
      ],
      "text/plain": [
       "   flight_id            timee        lat        lon       alt\n",
       "0         68  00:00:00.367295  40.137826  32.548747  0.093732\n",
       "1         68  00:00:00.367455  40.137826  32.548747  0.093732\n",
       "2         68  00:00:00.367850  40.137826  32.548746  0.093730\n",
       "3         68  00:00:00.368248  40.137827  32.548745  0.093730\n",
       "4         68  00:00:00.368850  40.137826  32.548745  0.093731"
      ]
     },
     "execution_count": 25,
     "metadata": {},
     "output_type": "execute_result"
    }
   ],
   "source": [
    "gps.head() # FIRST 5 ROW"
   ]
  },
  {
   "cell_type": "code",
   "execution_count": 26,
   "id": "8c1a5bea",
   "metadata": {},
   "outputs": [
    {
     "data": {
      "text/plain": [
       "<AxesSubplot:xlabel='lat', ylabel='alt'>"
      ]
     },
     "execution_count": 26,
     "metadata": {},
     "output_type": "execute_result"
    },
    {
     "data": {
      "image/png": "[encoded data removed]",
      "text/plain": [
       "<Figure size 432x288 with 1 Axes>"
      ]
     },
     "metadata": {
      "needs_background": "light"
     },
     "output_type": "display_data"
    }
   ],
   "source": [
    "import seaborn as sns\n",
    "sns.scatterplot(data=gps, x=\"lat\", y=\"alt\", hue=\"flight_id\", style=\"flight_id\",marker=\"+\")\n",
    "\n",
    "#RELATIONSHIP LAT AND ALT"
   ]
  },
  {
   "cell_type": "code",
   "execution_count": 27,
   "id": "83d75ff2",
   "metadata": {},
   "outputs": [
    {
     "data": {
      "text/plain": [
       "<AxesSubplot:xlabel='lat', ylabel='lon'>"
      ]
     },
     "execution_count": 27,
     "metadata": {},
     "output_type": "execute_result"
    },
    {
     "data": {
      "image/png": "[encoded data removed]",
      "text/plain": [
       "<Figure size 432x288 with 1 Axes>"
      ]
     },
     "metadata": {
      "needs_background": "light"
     },
     "output_type": "display_data"
    }
   ],
   "source": [
    "sns.scatterplot(data=gps, x=\"lat\", y=\"lon\", hue=\"flight_id\", style=\"flight_id\",marker=\"+\")\n",
    "\n",
    "#RELATIONSHIP LAT AND LON"
   ]
  },
  {
   "cell_type": "code",
   "execution_count": 28,
   "id": "6db2a398",
   "metadata": {},
   "outputs": [
    {
     "data": {
      "text/plain": [
       "<AxesSubplot:xlabel='lon', ylabel='alt'>"
      ]
     },
     "execution_count": 28,
     "metadata": {},
     "output_type": "execute_result"
    },
    {
     "data": {
      "image/png": "[encoded data removed]",
      "text/plain": [
       "<Figure size 432x288 with 1 Axes>"
      ]
     },
     "metadata": {
      "needs_background": "light"
     },
     "output_type": "display_data"
    }
   ],
   "source": [
    "sns.scatterplot(data=gps, x=\"lon\", y=\"alt\", hue=\"flight_id\", style=\"flight_id\",marker=\"+\")\n",
    "\n",
    "#RELATIONSHIP LON AND ALT"
   ]
  },
  {
   "cell_type": "code",
   "execution_count": 29,
   "id": "bbc2eef1",
   "metadata": {},
   "outputs": [
    {
     "data": {
      "text/plain": [
       "<AxesSubplot:xlabel='xyz0', ylabel='xyz1'>"
      ]
     },
     "execution_count": 29,
     "metadata": {},
     "output_type": "execute_result"
    },
    {
     "data": {
      "image/png": "[encoded data removed]",
      "text/plain": [
       "<Figure size 432x288 with 1 Axes>"
      ]
     },
     "metadata": {
      "needs_background": "light"
     },
     "output_type": "display_data"
    }
   ],
   "source": [
    "sns.scatterplot(data=ang_vel, x=\"xyz0\", y=\"xyz1\", hue=\"flight_id\", style=\"flight_id\")\n",
    "\n",
    "#RELATION X AN Y ANGULAR VELOCİTY"
   ]
  },
  {
   "cell_type": "code",
   "execution_count": 30,
   "id": "59eef81a",
   "metadata": {},
   "outputs": [
    {
     "data": {
      "text/plain": [
       "<AxesSubplot:xlabel='xyz0', ylabel='xyz2'>"
      ]
     },
     "execution_count": 30,
     "metadata": {},
     "output_type": "execute_result"
    },
    {
     "data": {
      "image/png": "[encoded data removed]",
      "text/plain": [
       "<Figure size 432x288 with 1 Axes>"
      ]
     },
     "metadata": {
      "needs_background": "light"
     },
     "output_type": "display_data"
    }
   ],
   "source": [
    "sns.scatterplot(data=ang_vel, x=\"xyz0\", y=\"xyz2\", hue=\"flight_id\", style=\"flight_id\")\n",
    "\n",
    "#RELATION X AN Z ANGULAR VELOCİTY"
   ]
  },
  {
   "cell_type": "code",
   "execution_count": 31,
   "id": "cfe1dd3d",
   "metadata": {},
   "outputs": [
    {
     "data": {
      "text/plain": [
       "<AxesSubplot:xlabel='xyz1', ylabel='xyz2'>"
      ]
     },
     "execution_count": 31,
     "metadata": {},
     "output_type": "execute_result"
    },
    {
     "data": {
      "image/png": "[encoded data removed]",
      "text/plain": [
       "<Figure size 432x288 with 1 Axes>"
      ]
     },
     "metadata": {
      "needs_background": "light"
     },
     "output_type": "display_data"
    }
   ],
   "source": [
    "sns.scatterplot(data=ang_vel, x=\"xyz1\", y=\"xyz2\", hue=\"flight_id\", style=\"flight_id\")\n",
    "\n",
    "#RELATION Y AN Z ANGULAR VELOCİTY"
   ]
  },
  {
   "cell_type": "code",
   "execution_count": 32,
   "id": "937b8baf",
   "metadata": {},
   "outputs": [
    {
     "data": {
      "image/png": "[encoded data removed]",
      "text/plain": [
       "<Figure size 432x288 with 2 Axes>"
      ]
     },
     "metadata": {
      "needs_background": "light"
     },
     "output_type": "display_data"
    }
   ],
   "source": [
    "# Showing only the bottom half of our correlation matrix\n",
    "import pandas as pd\n",
    "import seaborn as sns\n",
    "import matplotlib.pyplot as plt\n",
    "import numpy as np\n",
    "\n",
    "\n",
    "matrix = ang_vel.corr().round(2)\n",
    "mask = np.triu(np.ones_like(matrix, dtype=bool))\n",
    "sns.heatmap(matrix, annot=True, vmax=1, vmin=-1, center=0, cmap='vlag', mask=mask)\n",
    "plt.show()\n",
    "\n",
    "#CORRELATION MATRIX \n",
    "\n",
    "# IF CORRELATION COFFICIENT X>0.8 STROGNLY POSITIVE CORRELATION\n",
    "#                           X <-0.8 STRONGLY NEGATIVE CORRELATION"
   ]
  },
  {
   "cell_type": "code",
   "execution_count": 33,
   "id": "1f32efc8",
   "metadata": {},
   "outputs": [
    {
     "data": {
      "image/png": "[encoded data removed]",
      "text/plain": [
       "<Figure size 432x288 with 2 Axes>"
      ]
     },
     "metadata": {
      "needs_background": "light"
     },
     "output_type": "display_data"
    }
   ],
   "source": [
    "# Showing only the bottom half of our correlation matrix\n",
    "import pandas as pd\n",
    "import seaborn as sns\n",
    "import matplotlib.pyplot as plt\n",
    "import numpy as np\n",
    "\n",
    "\n",
    "matrix = gps.corr().round(2)\n",
    "mask = np.triu(np.ones_like(matrix, dtype=bool))\n",
    "sns.heatmap(matrix, annot=True, vmax=1, vmin=-1, center=0, cmap='vlag', mask=mask)\n",
    "plt.show()\n",
    "#CORRELATION MATRIX \n",
    "\n",
    "# IF CORRELATION COFFICIENT X>0.8 STROGNLY POSITIVE CORRELATION\n",
    "#                           X <-0.8 STRONGLY NEGATIVE CORRELATION"
   ]
  },
  {
   "cell_type": "code",
   "execution_count": 34,
   "id": "6871a3f3",
   "metadata": {},
   "outputs": [
    {
     "data": {
      "text/plain": [
       "(-0.8383102731593436, 3.85512195464779e-116)"
      ]
     },
     "execution_count": 34,
     "metadata": {},
     "output_type": "execute_result"
    }
   ],
   "source": [
    "from scipy.stats.stats import pearsonr\n",
    "\n",
    "#calculation correlation coefficient and p-value between x and y\n",
    "pearsonr(gps[\"alt\"], gps[\"lon\"])\n",
    "\n",
    "#p_value <0.01  that assocation is  high significance"
   ]
  },
  {
   "cell_type": "code",
   "execution_count": 35,
   "id": "60df0a45",
   "metadata": {},
   "outputs": [
    {
     "data": {
      "text/plain": [
       "(0.8582143635483439, 1.7262987367301905e-127)"
      ]
     },
     "execution_count": 35,
     "metadata": {},
     "output_type": "execute_result"
    }
   ],
   "source": [
    "from scipy.stats.stats import pearsonr\n",
    "\n",
    "#calculation correlation coefficient and p-value between x and y\n",
    "pearsonr(gps[\"alt\"], gps[\"lat\"])\n",
    "\n",
    "#p_value <0.01  that assocation is  high significance"
   ]
  },
  {
   "cell_type": "code",
   "execution_count": 36,
   "id": "f8d1b67b",
   "metadata": {},
   "outputs": [
    {
     "data": {
      "text/plain": [
       "(-0.9950375375922994, 0.0)"
      ]
     },
     "execution_count": 36,
     "metadata": {},
     "output_type": "execute_result"
    }
   ],
   "source": [
    "from scipy.stats.stats import pearsonr\n",
    "\n",
    "#calculation correlation coefficient and p-value between x and y\n",
    "pearsonr(gps[\"lon\"], gps[\"lat\"])\n",
    "\n",
    "#p_value <0.01  that assocation is  high significance"
   ]
  },
  {
   "cell_type": "code",
   "execution_count": 37,
   "id": "d026abd8",
   "metadata": {},
   "outputs": [
    {
     "data": {
      "text/plain": [
       "<AxesSubplot:xlabel='lat'>"
      ]
     },
     "execution_count": 37,
     "metadata": {},
     "output_type": "execute_result"
    },
    {
     "data": {
      "image/png": "[encoded data removed]",
      "text/plain": [
       "<Figure size 432x288 with 1 Axes>"
      ]
     },
     "metadata": {
      "needs_background": "light"
     },
     "output_type": "display_data"
    }
   ],
   "source": [
    "sns.boxplot(data=gps,x=\"lat\") # ONE RADICAL VALUE BUT THIS NOT IMPORTANT"
   ]
  },
  {
   "cell_type": "code",
   "execution_count": 38,
   "id": "a88e9e79",
   "metadata": {},
   "outputs": [
    {
     "data": {
      "text/plain": [
       "<AxesSubplot:xlabel='lon'>"
      ]
     },
     "execution_count": 38,
     "metadata": {},
     "output_type": "execute_result"
    },
    {
     "data": {
      "image/png": "[encoded data removed]",
      "text/plain": [
       "<Figure size 432x288 with 1 Axes>"
      ]
     },
     "metadata": {
      "needs_background": "light"
     },
     "output_type": "display_data"
    }
   ],
   "source": [
    "sns.boxplot(data=gps,x=\"lon\") # ONE RADICAL VALUE BUT THIS NOT IMPORTANT"
   ]
  },
  {
   "cell_type": "code",
   "execution_count": 39,
   "id": "fdf1b767",
   "metadata": {},
   "outputs": [
    {
     "data": {
      "text/plain": [
       "<AxesSubplot:xlabel='alt'>"
      ]
     },
     "execution_count": 39,
     "metadata": {},
     "output_type": "execute_result"
    },
    {
     "data": {
      "image/png": "[encoded data removed]",
      "text/plain": [
       "<Figure size 432x288 with 1 Axes>"
      ]
     },
     "metadata": {
      "needs_background": "light"
     },
     "output_type": "display_data"
    }
   ],
   "source": [
    "sns.boxplot(data=gps,x=\"alt\") # NOT RADİCAL VALUE"
   ]
  },
  {
   "cell_type": "markdown",
   "id": "c4680bbf",
   "metadata": {},
   "source": [
    "# SUMMARY \n",
    "\n",
    "###  WE EXPERINCE 994 OF 10081 ENTRIES AS ANOMALY DETECTION\n",
    "\n",
    "### IN GENERAL,DATA IS CLEAR.EXCEPT ANOMALY ,WE DIDNT SEEM IMPORTANTLY RADICAL VALUE VIA BOXPLOT\n",
    "\n",
    "### THREE STRONGLY CORRELATION AMONG VARİABLE(\"LAT\",\"LON\",\"ALT\") PROVEN PEARSON STATISTICAL TEST \n",
    "\n",
    "### BUT IN MY OPINION,(MAYBE CRITISIZE FOR  GIVEN DATA),DATA DONT PROVIDE TO REQUIREMENT TRANSPORTATION DATA TO WISDOM PROCESS.\n",
    "\n",
    "### GOOD INVESTIGATE AND READ .)"
   ]
  },
  {
   "cell_type": "code",
   "execution_count": null,
   "id": "ce5aa104",
   "metadata": {},
   "outputs": [],
   "source": []
  },
  {
   "cell_type": "code",
   "execution_count": null,
   "id": "efdf4572",
   "metadata": {},
   "outputs": [],
   "source": []
  },
  {
   "cell_type": "code",
   "execution_count": null,
   "id": "d089de67",
   "metadata": {},
   "outputs": [],
   "source": []
  }
 ],
 "metadata": {
  "kernelspec": {
   "display_name": "Python 3 (ipykernel)",
   "language": "python",
   "name": "python3"
  },
  "language_info": {
   "codemirror_mode": {
    "name": "ipython",
    "version": 3
   },
   "file_extension": ".py",
   "mimetype": "text/x-python",
   "name": "python",
   "nbconvert_exporter": "python",
   "pygments_lexer": "ipython3",
   "version": "3.9.12"
  }
 },
 "nbformat": 4,
 "nbformat_minor": 5
}
